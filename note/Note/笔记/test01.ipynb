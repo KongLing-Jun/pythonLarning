{
 "cells": [
  {
   "cell_type": "code",
   "execution_count": 5,
   "id": "initial_id",
   "metadata": {
    "collapsed": true,
    "ExecuteTime": {
     "end_time": "2024-05-19T16:24:48.108652Z",
     "start_time": "2024-05-19T16:24:48.104441Z"
    }
   },
   "outputs": [
    {
     "name": "stdout",
     "output_type": "stream",
     "text": [
      "10\n"
     ]
    }
   ],
   "source": [
    "# === File: iteration.py ===\n",
    "def for_loop(n : int) -> int:\n",
    "    res = 0\n",
    "    # 循环求和 1, 2, ..., n-1, n\n",
    "    for i in range(1, n + 1):\n",
    "        res += i\n",
    "    return res\n",
    "if __name__ == '__main__':\n",
    "    number = for_loop(4)\n",
    "    print(number)"
   ]
  },
  {
   "cell_type": "code",
   "outputs": [
    {
     "name": "stdout",
     "output_type": "stream",
     "text": [
      "1\n"
     ]
    }
   ],
   "source": [
    "#=== File: iteration.py ===\n",
    "def while_loop_ii(n: int)-> int:\n",
    "    \"\"\"while循环（两次更新）\"\"\"\n",
    "    res = 0\n",
    "    i = 1 #初始化条件变量\n",
    "    while i <=n:\n",
    "        res +=i\n",
    "    #更新条件变量\n",
    "        i +=1\n",
    "        i *=2\n",
    "        return res\n",
    "if __name__ == '__main__':\n",
    "    number = while_loop_ii(4)\n",
    "    print(number)"
   ],
   "metadata": {
    "collapsed": false,
    "ExecuteTime": {
     "end_time": "2024-05-19T16:26:29.332028Z",
     "start_time": "2024-05-19T16:26:29.326755Z"
    }
   },
   "id": "dcc9eb6f213e72ba",
   "execution_count": 6
  },
  {
   "cell_type": "code",
   "outputs": [
    {
     "name": "stdout",
     "output_type": "stream",
     "text": [
      "(1,1)(1,2)(1,3)(2,1)(2,2)(2,3)(3,1)(3,2)(3,3)\n"
     ]
    }
   ],
   "source": [
    "def nested_for_loop(n:int) -> str:\n",
    "    res = \"\"\n",
    "    for i in range(1,n+1):\n",
    "        for j in range(1,n+1):\n",
    "            res += f\"({i},{j})\"\n",
    "    return res\n",
    "if __name__ == '__main__':\n",
    "    print(nested_for_loop(3))"
   ],
   "metadata": {
    "collapsed": false,
    "ExecuteTime": {
     "end_time": "2024-05-19T16:29:33.988639Z",
     "start_time": "2024-05-19T16:29:33.983843Z"
    }
   },
   "id": "3c3bb8fd085d5865",
   "execution_count": 7
  },
  {
   "cell_type": "code",
   "outputs": [
    {
     "name": "stdout",
     "output_type": "stream",
     "text": [
      "6\n"
     ]
    }
   ],
   "source": [
    "def recur(n:int) -> int:\n",
    "    #终止条件\n",
    "    if n == 1:\n",
    "        return 1\n",
    "    #递：递归调用\n",
    "    res = recur(n - 1)\n",
    "    #归：返回结果\n",
    "    return n + res\n",
    "if __name__ == '__main__':\n",
    "    print(recur(3))"
   ],
   "metadata": {
    "collapsed": false,
    "ExecuteTime": {
     "end_time": "2024-05-19T16:33:26.407344Z",
     "start_time": "2024-05-19T16:33:26.404338Z"
    }
   },
   "id": "bc8a6860c62d5a84",
   "execution_count": 10
  },
  {
   "cell_type": "code",
   "outputs": [
    {
     "name": "stdout",
     "output_type": "stream",
     "text": [
      "10\n"
     ]
    }
   ],
   "source": [
    "#尾递归\n",
    "def tail_recur(n,res):\n",
    "    if n == 0:\n",
    "        return res\n",
    "    return tail_recur(n - 1,res + n)\n",
    "if __name__ == '__main__':\n",
    "    print(tail_recur(3,4))"
   ],
   "metadata": {
    "collapsed": false,
    "ExecuteTime": {
     "end_time": "2024-05-19T16:42:26.091688Z",
     "start_time": "2024-05-19T16:42:26.087911Z"
    }
   },
   "id": "1ca6055fe8f1f0a7",
   "execution_count": 19
  },
  {
   "cell_type": "code",
   "outputs": [
    {
     "name": "stdout",
     "output_type": "stream",
     "text": [
      "8\n"
     ]
    }
   ],
   "source": [
    "#斐波那契数列：递归\n",
    "#给定一个斐波那契数列0,1,1,2,3,5,8,13,…求该数列的第𝑛个数字。\n",
    "def fib(n:int) -> int:\n",
    "    if n == 1 or n == 2:\n",
    "        return n - 1\n",
    "     # 递归调用 f(n) = f(n-1) + f(n-2)\n",
    "    res = fib(n-1) + fib(n-2)\n",
    "    #返回结果\n",
    "    return res\n",
    "if __name__ == '__main__':\n",
    "    print(fib(7))"
   ],
   "metadata": {
    "collapsed": false,
    "ExecuteTime": {
     "end_time": "2024-05-19T16:48:09.224949Z",
     "start_time": "2024-05-19T16:48:09.221064Z"
    }
   },
   "id": "fce8503d25242bbb",
   "execution_count": 32
  },
  {
   "cell_type": "code",
   "outputs": [
    {
     "name": "stdout",
     "output_type": "stream",
     "text": [
      "10\n"
     ]
    }
   ],
   "source": [
    "#我们可以使用一个显式的栈来模拟调用栈的行为，从而将递归转化为迭代形式\n",
    "def for_loop_recur(n:int) -> int:\n",
    "    # 使用一个显式的栈来模拟系统调用栈\n",
    "    stack = []\n",
    "    res = 0\n",
    "     # 递：递归调用\n",
    "    for i in range(n,0,-1):\n",
    "        # 通过“入栈操作”模拟“递\n",
    "        stack.append(i)\n",
    "    #归：返回结果\n",
    "    while stack:\n",
    "        # 通过“出栈操作”模拟“归\"\n",
    "        res += stack.pop()\n",
    "    # res = 1+2+3+4+...\n",
    "    return res\n",
    "if __name__ == '__main__':\n",
    "    print(for_loop_recur(4))"
   ],
   "metadata": {
    "collapsed": false,
    "ExecuteTime": {
     "end_time": "2024-05-19T16:53:03.816396Z",
     "start_time": "2024-05-19T16:53:03.811448Z"
    }
   },
   "id": "a41220499b493a20",
   "execution_count": 33
  },
  {
   "cell_type": "code",
   "outputs": [
    {
     "name": "stdout",
     "output_type": "stream",
     "text": [
      "15\n",
      "[2, 2, 3, 5, 6, 7]\n"
     ]
    }
   ],
   "source": [
    "#冒泡排序\n",
    "def bubble_sort(nums: list[int]) -> int:\n",
    "    count = 0  # 计数器\n",
    "    # 外循环：未排序区间为 [0, i]\n",
    "    for i in range(len(nums) - 1, 0, -1):\n",
    "        # 内循环：将未排序区间 [0, i] 中的最大元素交换至该区间的最右端\n",
    "        for j in range(i):\n",
    "            if nums[j] > nums[j+1]:\n",
    "                # 交换 nums[j] 与 nums[j + 1]\n",
    "                tmp: int = nums[j]\n",
    "                nums[j] = nums[j+1]\n",
    "                nums[j+1] = tmp\n",
    "                count += 3  # 元素交换包含 3 个单元操作\n",
    "    return count\n",
    "if __name__ == '__main__':\n",
    "    mylist : list[int] = [3,2,5,6,7,2]\n",
    "    print(bubble_sort(mylist))\n",
    "    print(mylist)"
   ],
   "metadata": {
    "collapsed": false,
    "ExecuteTime": {
     "end_time": "2024-05-19T17:03:10.619399Z",
     "start_time": "2024-05-19T17:03:10.613477Z"
    }
   },
   "id": "b2385a5a2a0ddbcc",
   "execution_count": 36
  }
 ],
 "metadata": {
  "kernelspec": {
   "display_name": "Python 3",
   "language": "python",
   "name": "python3"
  },
  "language_info": {
   "codemirror_mode": {
    "name": "ipython",
    "version": 2
   },
   "file_extension": ".py",
   "mimetype": "text/x-python",
   "name": "python",
   "nbconvert_exporter": "python",
   "pygments_lexer": "ipython2",
   "version": "2.7.6"
  }
 },
 "nbformat": 4,
 "nbformat_minor": 5
}
