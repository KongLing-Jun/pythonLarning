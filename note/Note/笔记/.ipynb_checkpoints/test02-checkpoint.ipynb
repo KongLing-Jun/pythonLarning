{
 "cells": [
  {
   "cell_type": "code",
   "execution_count": 1,
   "id": "initial_id",
   "metadata": {
    "collapsed": true,
    "ExecuteTime": {
     "end_time": "2024-05-21T06:51:37.875777Z",
     "start_time": "2024-05-21T06:51:37.864427Z"
    }
   },
   "outputs": [
    {
     "name": "stdout",
     "output_type": "stream",
     "text": [
      "None\n"
     ]
    }
   ],
   "source": [
    "import random\n",
    "\n",
    "\n",
    "def function() -> int:\n",
    "    return 0\n",
    "\n",
    "def loop(n:int):\n",
    "    for _ in range(n):\n",
    "        function()\n",
    "\n",
    "def recur(n:int) -> int:\n",
    "    if n == 1: \n",
    "        return \n",
    "    else:\n",
    "        return recur(n-1)\n",
    "if __name__ == '__main__':\n",
    "    print(loop(3))"
   ]
  },
  {
   "cell_type": "code",
   "outputs": [],
   "source": [
    "# 使用多种基本数据类型来初始化数组\n",
    "number: list[int] = [0] * 5\n",
    "decimals: list[float] = [0.0] * 5\n",
    "# Python 的字符应被看作长度为一的字符串\n",
    "characters: list[str] = ['0'] * 5\n",
    "bools: list[bool] = [False] * 5\n",
    "data = [0, 0.0, '0', False]"
   ],
   "metadata": {
    "collapsed": false
   },
   "id": "f72f6fc28967b015"
  },
  {
   "cell_type": "code",
   "outputs": [
    {
     "name": "stdout",
     "output_type": "stream",
     "text": [
      "[0, 1, 2, 3, 4]\n",
      "3\n",
      "0: 3\n",
      "1: 2\n",
      "2: 5\n",
      "3: 4\n",
      "4: 1\n"
     ]
    }
   ],
   "source": [
    "import random\n",
    "# 1. 初始化数组\n",
    "number: list[int] = [0] * 5\n",
    "nums: list[int] = list(range(5))\n",
    "print(nums)\n",
    "# 2. 访问元素\n",
    "def random_access(nums: list[int]) -> int:\n",
    "    # 在区间 [0, len(nums)-1] 中随机抽取一个数字\n",
    "    random_index =random.randint(0,len(nums) - 1)\n",
    "    # 获取并返回随机元素\n",
    "    return nums[random_index]\n",
    "print(random_access(nums))\n",
    "# 3. 插入元素\n",
    "def insert(nums: list[int], num: int, index: int):\n",
    "    # 把索引 index 以及之后的所有元素向后移动一位\n",
    "    for i in range(len(nums) - 1, index, -1):\n",
    "        nums[i] = nums[i - 1]\n",
    "    # 在索引 index 处插入元素 num\n",
    "    nums[index] = num\n",
    "# if __name__ == '__main__':\n",
    "#     insert(nums, 10, 2)\n",
    "#     print(nums)\n",
    "# 值得注意的是，由于数组的长度是固定的，因此插入一个元素必定会导致数组尾部元素的“丢失”\n",
    "# 4. 删除元素\n",
    "def remove(nums: list[int], index:int):\n",
    "    for i in range(index,len(nums) - 1):\n",
    "        nums[i] = nums[i+1]\n",
    "# if __name__ == '__main__':\n",
    "#     remove(nums, 2)\n",
    "#     print(nums)\n",
    "# 5. 遍历数组\n",
    "def traverse(nums: list[int]):\n",
    "    count = 0\n",
    "    # 通过索引遍历数组\n",
    "    # for i in range(len(nums)):\n",
    "    #     count += 1\n",
    "    # 通过元素遍历数组\n",
    "    # for num in nums:\n",
    "    #     count += 1\n",
    "    #同时遍历数据索引和元素\n",
    "    for i, num in enumerate(nums):\n",
    "        print(f'{i}: {num}')\n",
    "        count += 1\n",
    "if __name__ == '__main__':\n",
    "    mylist : list[int] = [3,2,5,4,1]\n",
    "    traverse(mylist)"
   ],
   "metadata": {
    "collapsed": false,
    "ExecuteTime": {
     "end_time": "2024-05-21T07:30:55.931365Z",
     "start_time": "2024-05-21T07:30:55.925207Z"
    }
   },
   "id": "7db3c2b9cbd13312",
   "execution_count": 9
  },
  {
   "cell_type": "code",
   "outputs": [],
   "source": [],
   "metadata": {
    "collapsed": false
   },
   "id": "28d33478a1e5d43e"
  }
 ],
 "metadata": {
  "kernelspec": {
   "display_name": "Python 3",
   "language": "python",
   "name": "python3"
  },
  "language_info": {
   "codemirror_mode": {
    "name": "ipython",
    "version": 2
   },
   "file_extension": ".py",
   "mimetype": "text/x-python",
   "name": "python",
   "nbconvert_exporter": "python",
   "pygments_lexer": "ipython2",
   "version": "2.7.6"
  }
 },
 "nbformat": 4,
 "nbformat_minor": 5
}
