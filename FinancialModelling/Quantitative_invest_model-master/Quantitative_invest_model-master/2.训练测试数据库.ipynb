{
 "cells": [
  {
   "cell_type": "code",
   "execution_count": 7,
   "id": "7d31fab5",
   "metadata": {},
   "outputs": [],
   "source": [
    "import torch\n",
    "from torch.utils.data import Dataset, DataLoader\n",
    "import torch.utils.data as Data\n",
    "import random"
   ]
  },
  {
   "cell_type": "code",
   "execution_count": 8,
   "id": "28ddd4d1",
   "metadata": {},
   "outputs": [],
   "source": [
    "class Train_Test_Dataset():\n",
    "    def __init__(self):\n",
    "        self.path = 'E:/SS_data/torch/total_torch_data'\n",
    "        self.index = list(range(9))\n",
    "        self.test = 1\n",
    "        \n",
    "    def run(self):\n",
    "        random.shuffle(self.index)\n",
    "        print(self.index)\n",
    "        self.process_data(self.index[:self.test], 'test', 'testdataset')\n",
    "        self.process_data(self.index[self.test:], 'train', 'traindataset')\n",
    "    \n",
    "    def process_data(self, indices, data_type, save_prefix):\n",
    "        for i, index in enumerate(indices):\n",
    "            data = self.get_data(index)\n",
    "            dataset = CustomDataset(data)\n",
    "            torch.save(dataset, f'E:/SS_data/dataset/{save_prefix}{i}')\n",
    "            print(f'下载完成{save_prefix}{i}')\n",
    "        \n",
    "    def get_data(self, i):\n",
    "        data = torch.load('E:/SS_data/torch/total_torch_data'+str(self.index[i]))\n",
    "        return data.reshape(-1,2457,54)\n",
    "        \n",
    "class CustomDataset(Dataset):\n",
    "    def __init__(self, data):\n",
    "        self.data = data\n",
    "\n",
    "    def __len__(self):\n",
    "        return len(self.data)\n",
    "\n",
    "    def __getitem__(self, idx):\n",
    "        return self.data[idx]        "
   ]
  },
  {
   "cell_type": "code",
   "execution_count": 9,
   "id": "52e46c99",
   "metadata": {},
   "outputs": [
    {
     "name": "stdout",
     "output_type": "stream",
     "text": [
      "[3, 4, 7, 0, 5, 2, 6, 1, 8]\n",
      "下载完成testdataset0\n",
      "下载完成traindataset0\n",
      "下载完成traindataset1\n",
      "下载完成traindataset2\n",
      "下载完成traindataset3\n",
      "下载完成traindataset4\n",
      "下载完成traindataset5\n",
      "下载完成traindataset6\n",
      "下载完成traindataset7\n"
     ]
    }
   ],
   "source": [
    "Train_Test_Dataset = Train_Test_Dataset()\n",
    "Train_Test_Dataset.run()"
   ]
  },
  {
   "cell_type": "code",
   "execution_count": null,
   "id": "ac2455b7",
   "metadata": {},
   "outputs": [],
   "source": []
  }
 ],
 "metadata": {
  "kernelspec": {
   "display_name": "Python 3 (ipykernel)",
   "language": "python",
   "name": "python3"
  },
  "language_info": {
   "codemirror_mode": {
    "name": "ipython",
    "version": 3
   },
   "file_extension": ".py",
   "mimetype": "text/x-python",
   "name": "python",
   "nbconvert_exporter": "python",
   "pygments_lexer": "ipython3",
   "version": "3.8.16"
  }
 },
 "nbformat": 4,
 "nbformat_minor": 5
}
