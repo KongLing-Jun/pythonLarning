{
 "cells": [
  {
   "cell_type": "code",
   "id": "initial_id",
   "metadata": {
    "collapsed": true,
    "ExecuteTime": {
     "end_time": "2024-11-05T14:39:40.070542Z",
     "start_time": "2024-11-05T14:39:38.994588Z"
    }
   },
   "source": [
    "import matplotlib\n",
    "import warnings\n",
    "import pandas as pd\n",
    "import os\n",
    "\n",
    "\n",
    "# 忽略 FutureWarnings\n",
    "warnings.simplefilter(action='ignore', category=FutureWarning)\n",
    "\n",
    "# 设置matplotlib支持中文显示\n",
    "matplotlib.rcParams['font.family'] = 'SimHei'  # 设置字体为黑体\n",
    "matplotlib.rcParams['axes.unicode_minus'] = False  # 正确显示负号\n",
    "\n",
    "# 定义文件夹路径\n",
    "market_info_path = 'StockData/market_info'\n",
    "market_data_path = 'StockData/market_data'\n",
    "\n",
    "# 读取所有 market_info 文件并合并\n",
    "info_dfs = []\n",
    "for file_name in sorted(os.listdir(market_info_path)):\n",
    "    if file_name.endswith('.csv'):\n",
    "        file_path = os.path.join(market_info_path, file_name)\n",
    "        info_df = pd.read_csv(file_path)\n",
    "        info_dfs.append(info_df)\n",
    "market_info = pd.concat(info_dfs, ignore_index=True)\n",
    "\n",
    "# 读取所有 market_data 文件并合并\n",
    "data_dfs = []\n",
    "for file_name in sorted(os.listdir(market_data_path)):\n",
    "    if file_name.endswith('.csv'):\n",
    "        file_path = os.path.join(market_data_path, file_name)\n",
    "        data_df = pd.read_csv(file_path)\n",
    "        data_dfs.append(data_df)\n",
    "market_data = pd.concat(data_dfs, ignore_index=True)\n",
    "\n",
    "# 将日期列格式化，自动推断日期格式\n",
    "market_info['date'] = pd.to_datetime(market_info['date'], errors='coerce')  # 如果有错误，设置为NaT\n",
    "market_data['time'] = pd.to_datetime(market_data['time'], format='%Y/%m/%d %H:%M', errors='coerce')\n",
    "\n",
    "# 合并数据：使用股票代码 'code' 以及时间/日期 'date' 和 'time' 进行合并\n",
    "combined_data = pd.merge(\n",
    "    market_data,\n",
    "    market_info,\n",
    "    left_on=['code', 'time'],\n",
    "    right_on=['code', 'date'],\n",
    "    how='left'\n",
    ")\n",
    "\n",
    "# 删除合并后多余的 'date' 列\n",
    "combined_data = combined_data.drop(columns=['date'])\n",
    "\n",
    "# # 填充缺失值（可以使用填充零或插值等方法）\n",
    "# combined_data.fillna(method='ffill', inplace=True)  # 前向填充\n",
    "# combined_data.fillna(method='bfill', inplace=True)  # 后向填充\n",
    "# 或使用填充 0： combined_data.fillna(0, inplace=True)\n",
    "\n",
    "# 打印处理后的数据\n",
    "print(combined_data.head())"
   ],
   "outputs": [
    {
     "name": "stdout",
     "output_type": "stream",
     "text": [
      "   Unnamed: 0_x time         code      open      high       low     close  \\\n",
      "0             0  NaT  szse.000001  5.662246  5.746339  5.629543  5.713636   \n",
      "1             1  NaT  szse.000001  5.676262  5.680934  5.503404  5.573482   \n",
      "2             2  NaT  szse.000001  5.554794  5.606184  5.372593  5.452014   \n",
      "3             3  NaT  szse.000001  5.386609  5.494061  5.377265  5.433327   \n",
      "4             4  NaT  szse.000001  5.437999  5.582825  5.386609  5.494061   \n",
      "\n",
      "     volume        amount  open_interest  Unnamed: 0_y name block_name  weight  \n",
      "0  489910.0  5.962237e+08            NaN           NaN  NaN        NaN     NaN  \n",
      "1  551114.0  6.566313e+08            NaN           NaN  NaN        NaN     NaN  \n",
      "2  582118.0  6.792804e+08            NaN           NaN  NaN        NaN     NaN  \n",
      "3  338407.0  3.939776e+08            NaN           NaN  NaN        NaN     NaN  \n",
      "4  457768.0  5.384362e+08            NaN           NaN  NaN        NaN     NaN  \n"
     ]
    }
   ],
   "execution_count": 3
  }
 ],
 "metadata": {
  "kernelspec": {
   "display_name": "Python 3",
   "language": "python",
   "name": "python3"
  },
  "language_info": {
   "codemirror_mode": {
    "name": "ipython",
    "version": 2
   },
   "file_extension": ".py",
   "mimetype": "text/x-python",
   "name": "python",
   "nbconvert_exporter": "python",
   "pygments_lexer": "ipython2",
   "version": "2.7.6"
  }
 },
 "nbformat": 4,
 "nbformat_minor": 5
}
